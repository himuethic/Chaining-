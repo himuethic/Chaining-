{
  "nbformat": 4,
  "nbformat_minor": 0,
  "metadata": {
    "colab": {
      "provenance": [],
      "authorship_tag": "ABX9TyM9zAjeKniRkLMc4VwWlnOI",
      "include_colab_link": true
    },
    "kernelspec": {
      "name": "python3",
      "display_name": "Python 3"
    },
    "language_info": {
      "name": "python"
    }
  },
  "cells": [
    {
      "cell_type": "markdown",
      "metadata": {
        "id": "view-in-github",
        "colab_type": "text"
      },
      "source": [
        "<a href=\"https://colab.research.google.com/github/himuethic/Chaining-/blob/main/Chaining.ipynb\" target=\"_parent\"><img src=\"https://colab.research.google.com/assets/colab-badge.svg\" alt=\"Open In Colab\"/></a>"
      ]
    },
    {
      "cell_type": "code",
      "execution_count": null,
      "metadata": {
        "id": "oeM17nlrpZeA"
      },
      "outputs": [],
      "source": [
        "class Node:\n",
        "    def __init__(self, key, value):\n",
        "        self.key = key\n",
        "        self.value = value\n",
        "        self.next = None\n",
        "\n",
        "class LL:\n",
        "    def __init__(self):\n",
        "        self.head = None\n",
        "\n",
        "    def add(self, key, value):\n",
        "        new_node = Node(key, value)\n",
        "        if self.head is None:\n",
        "            self.head = new_node\n",
        "        else:\n",
        "            temp = self.head\n",
        "            while temp.next is not None:\n",
        "                temp = temp.next\n",
        "            temp.next = new_node\n",
        "\n",
        "    def delete_head(self):\n",
        "        if self.head is None:\n",
        "            return \"Empty\"\n",
        "        else:\n",
        "            self.head = self.head.next\n",
        "\n",
        "    def remove(self, key):\n",
        "        if self.head.key == key:\n",
        "            self.delete_head()\n",
        "            return\n",
        "        if self.head is None:\n",
        "            return \"Empty\"\n",
        "        else:\n",
        "            temp = self.head\n",
        "            while temp.next is not None:\n",
        "                if temp.next.key == key:\n",
        "                    break\n",
        "                temp = temp.next\n",
        "            if temp.next is None:\n",
        "                return \"Not Found\"\n",
        "            else:\n",
        "                temp.next = temp.next.next\n",
        "\n",
        "    def traverse(self):\n",
        "        temp = self.head\n",
        "        while temp is not None:\n",
        "            print(temp.key, \"-->\", temp.value, \" \", end=\" \")\n",
        "            temp = temp.next\n",
        "\n",
        "    def size(self):\n",
        "        temp = self.head\n",
        "        counter = 0\n",
        "        while temp is not None:\n",
        "            counter += 1\n",
        "            temp = temp.next\n",
        "        return counter\n",
        "\n",
        "    def search(self, key):\n",
        "        temp = self.head\n",
        "        pos = 0\n",
        "        while temp is not None:\n",
        "            if temp.key == key:\n",
        "                return pos\n",
        "            temp = temp.next\n",
        "            pos += 1\n",
        "        return -1\n",
        "\n",
        "    def get_node_at_index(self, index):\n",
        "        temp = self.head\n",
        "        counter = 0\n",
        "        while temp is not None:\n",
        "            if counter == index:\n",
        "                return temp\n",
        "            temp = temp.next\n",
        "            counter += 1"
      ]
    },
    {
      "cell_type": "code",
      "source": [
        "class dictionary:\n",
        "   def __init__(self, capacity):\n",
        "    self.capacity = capacity\n",
        "    self.size = 0\n",
        "\n",
        "    self.buckets = self.make_array(self.capacity)\n",
        "   def make_array(self, capacity):\n",
        "\n",
        "    L = []\n",
        "    for i in range(capacity):\n",
        "     L.append(LL())\n",
        "    return L\n",
        "\n",
        "   def __setitem_(self,key,value):\n",
        "    self.put(key,value)\n",
        "\n",
        "   def __delitem__(self,key):\n",
        "    bucket_index = self.hash_function(key)\n",
        "\n",
        "    self.buckets[bucket_index].remove(key)\n",
        "\n",
        "   def __str__(self):\n",
        "     for i in self.buckets:\n",
        "      i.traverse()\n",
        "\n",
        "     return \" \"\n",
        "\n",
        "   def __len__(self):\n",
        "    return self.size\n",
        "\n",
        "   def __getitem__(self,key):\n",
        "    return self.get(key)\n",
        "\n",
        "\n",
        "   def get(self,key):\n",
        "\n",
        "    bucket_index = self.hash_function(key)\n",
        "    res = self.buckets[bucket_index].search(key)\n",
        "\n",
        "    if res == -1:\n",
        "     return \"not found\"\n",
        "    else:\n",
        "      node = self.buckets[bucket_index].get_node_at_index(res)\n",
        "      return node.value\n",
        "\n",
        "\n",
        "   def put(self,key,value):\n",
        "\n",
        "    bucket_index = self.hash_function(key)\n",
        "    node_index = self.get_node_index(bucket_index,key)\n",
        "\n",
        "    if node_index == -1:\n",
        "\n",
        "     self.buckets[bucket_index].add(key,value)\n",
        "     self.size+= 1\n",
        "\n",
        "     load_factor = self.size / self.capacity\n",
        "     print(f\"Load factor: {load_factor}\")\n",
        "\n",
        "     if(load_factor  >= 2):\n",
        "      self.rehash()\n",
        "\n",
        "    else:\n",
        "     node = self.buckets[bucket_index].get_node_at_index(node_index)\n",
        "     node.value = value\n",
        "\n",
        "   def rehash(self):\n",
        "    self.capacity = self.capacity * 2\n",
        "    old_buckets = self.buckets\n",
        "    self.size = 0\n",
        "    self.buckets = self.make_array(self.capacity)\n",
        "\n",
        "    for i in old_buckets:\n",
        "     for j in range(i.size()):\n",
        "      node = i.get_node_at_index(j)\n",
        "      key_item = node.key\n",
        "      value_item = node.value\n",
        "      self.put(key_item,value_item)\n",
        "\n",
        "\n",
        "\n",
        "\n",
        "   def get_node_index(self,bucket_index,key):\n",
        "\n",
        "    node_index = self.buckets[bucket_index].search(key)\n",
        "\n",
        "    return node_index\n",
        "\n",
        "\n",
        "\n",
        "\n",
        "\n",
        "   def hash_function(self,key):\n",
        "    return abs(hash(key)) % self.capacity"
      ],
      "metadata": {
        "id": "BOttBb3YqmLU"
      },
      "execution_count": null,
      "outputs": []
    },
    {
      "cell_type": "code",
      "source": [],
      "metadata": {
        "id": "rGxQCB2FLlNt"
      },
      "execution_count": null,
      "outputs": []
    },
    {
      "cell_type": "code",
      "source": [
        "d1 = dictionary(4)"
      ],
      "metadata": {
        "id": "grTRCGZ6UgB3"
      },
      "execution_count": null,
      "outputs": []
    },
    {
      "cell_type": "code",
      "source": [
        "d1.put(\"jlmk\",53)"
      ],
      "metadata": {
        "colab": {
          "base_uri": "https://localhost:8080/"
        },
        "id": "CFlPGagVVAIx",
        "outputId": "cf2f980d-8c6f-406f-f094-e19741a2b5a5"
      },
      "execution_count": null,
      "outputs": [
        {
          "output_type": "stream",
          "name": "stdout",
          "text": [
            "Load factor: 0.25\n"
          ]
        }
      ]
    },
    {
      "cell_type": "code",
      "source": [
        "d1[\"jlmk\"]"
      ],
      "metadata": {
        "colab": {
          "base_uri": "https://localhost:8080/",
          "height": 35
        },
        "id": "CkZ9uQ6LJz5d",
        "outputId": "7a990d55-cdd6-43d9-e7f7-3af2b710f696"
      },
      "execution_count": null,
      "outputs": [
        {
          "output_type": "execute_result",
          "data": {
            "text/plain": [
              "'not found'"
            ],
            "application/vnd.google.colaboratory.intrinsic+json": {
              "type": "string"
            }
          },
          "metadata": {},
          "execution_count": 45
        }
      ]
    },
    {
      "cell_type": "code",
      "source": [
        "d1.put(\"python\",88)"
      ],
      "metadata": {
        "colab": {
          "base_uri": "https://localhost:8080/"
        },
        "id": "DS43_XiRUmiF",
        "outputId": "5a47ef96-6963-4c1f-8136-16d1bf178bea"
      },
      "execution_count": null,
      "outputs": [
        {
          "output_type": "stream",
          "name": "stdout",
          "text": [
            "Load factor: 0.5\n"
          ]
        }
      ]
    },
    {
      "cell_type": "code",
      "source": [
        "d1.put(\"himu\",77)"
      ],
      "metadata": {
        "colab": {
          "base_uri": "https://localhost:8080/"
        },
        "id": "8gyECJ8PJ3ll",
        "outputId": "c68ec431-bda3-435d-d92a-bfe63a83a7fd"
      },
      "execution_count": null,
      "outputs": [
        {
          "output_type": "stream",
          "name": "stdout",
          "text": [
            "Load factor: 1.0\n"
          ]
        }
      ]
    },
    {
      "cell_type": "code",
      "source": [
        "len(d1)"
      ],
      "metadata": {
        "colab": {
          "base_uri": "https://localhost:8080/"
        },
        "id": "uBzXjp9pL2t7",
        "outputId": "1f2d26e7-5063-4d05-8d16-bea5d50649e7"
      },
      "execution_count": null,
      "outputs": [
        {
          "output_type": "execute_result",
          "data": {
            "text/plain": [
              "4"
            ]
          },
          "metadata": {},
          "execution_count": 71
        }
      ]
    }
  ]
}