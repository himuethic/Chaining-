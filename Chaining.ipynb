{
  "nbformat": 4,
  "nbformat_minor": 0,
  "metadata": {
    "colab": {
      "provenance": [],
      "authorship_tag": "ABX9TyMP2wf/K2tw+304IEFZP8Wa",
      "include_colab_link": true
    },
    "kernelspec": {
      "name": "python3",
      "display_name": "Python 3"
    },
    "language_info": {
      "name": "python"
    }
  },
  "cells": [
    {
      "cell_type": "markdown",
      "metadata": {
        "id": "view-in-github",
        "colab_type": "text"
      },
      "source": [
        "<a href=\"https://colab.research.google.com/github/himuethic/Chaining-/blob/main/Chaining.ipynb\" target=\"_parent\"><img src=\"https://colab.research.google.com/assets/colab-badge.svg\" alt=\"Open In Colab\"/></a>"
      ]
    },
    {
      "cell_type": "code",
      "execution_count": 36,
      "metadata": {
        "id": "oeM17nlrpZeA"
      },
      "outputs": [],
      "source": [
        "class Node:\n",
        "    def __init__(self, key, value):\n",
        "        self.key = key\n",
        "        self.value = value\n",
        "        self.next = None\n",
        "\n",
        "class LL:\n",
        "    def __init__(self):\n",
        "        self.head = None\n",
        "\n",
        "    def add(self, key, value):\n",
        "        new_node = Node(key, value)\n",
        "        if self.head is None:\n",
        "            self.head = new_node\n",
        "        else:\n",
        "            temp = self.head\n",
        "            while temp.next is not None:\n",
        "                temp = temp.next\n",
        "            temp.next = new_node\n",
        "\n",
        "    def delete_head(self):\n",
        "        if self.head is None:\n",
        "            return \"Empty\"\n",
        "        else:\n",
        "            self.head = self.head.next\n",
        "\n",
        "    def remove(self, key):\n",
        "        if self.head.key == key:\n",
        "            self.delete_head()\n",
        "            return\n",
        "        if self.head is None:\n",
        "            return \"Empty\"\n",
        "        else:\n",
        "            temp = self.head\n",
        "            while temp.next is not None:\n",
        "                if temp.next.key == key:\n",
        "                    break\n",
        "                temp = temp.next\n",
        "            if temp.next is None:\n",
        "                return \"Not Found\"\n",
        "            else:\n",
        "                temp.next = temp.next.next\n",
        "\n",
        "    def traverse(self):\n",
        "        temp = self.head\n",
        "        while temp is not None:\n",
        "            print(temp.key, \"-->\", temp.value, \" \", end=\" \")\n",
        "            temp = temp.next\n",
        "\n",
        "    def size(self):\n",
        "        temp = self.head\n",
        "        counter = 0\n",
        "        while temp is not None:\n",
        "            counter += 1\n",
        "            temp = temp.next\n",
        "        return counter\n",
        "\n",
        "    def search(self, key):\n",
        "        temp = self.head\n",
        "        pos = 0\n",
        "        while temp is not None:\n",
        "            if temp.key == key:\n",
        "                return pos\n",
        "            temp = temp.next\n",
        "            pos += 1\n",
        "        return -1\n",
        "\n",
        "    def get_node_at_index(self, index):\n",
        "        temp = self.head\n",
        "        counter = 0\n",
        "        while temp is not None:\n",
        "            if counter == index:\n",
        "                return temp\n",
        "            temp = temp.next\n",
        "            counter += 1"
      ]
    },
    {
      "cell_type": "code",
      "source": [
        "class dictionary:\n",
        "   def __init__(self, capacity):\n",
        "    self.capacity = capacity\n",
        "    self.size = 0\n",
        "\n",
        "    self.buckets = self.make_array(self.capacity)\n",
        "   def make_array(self, capacity):\n",
        "\n",
        "    L = []\n",
        "    for i in range(capacity):\n",
        "     L.append(LL())\n",
        "    return L\n",
        "\n",
        "   def put(self,key,value):\n",
        "\n",
        "    bucket_index = self.hash_function(key)\n",
        "    node_index = self.get_node_index(bucket_index,key)\n",
        "\n",
        "    if node_index == -1:\n",
        "\n",
        "     self.buckets[bucket_index].add(key,value)\n",
        "     self.size+= 1\n",
        "\n",
        "     load_factor = self.size / self.capacity\n",
        "     print(f\"Load factor: {load_factor}\")\n",
        "\n",
        "     if(load_factor  >= 2):\n",
        "      self.rehash()\n",
        "\n",
        "    else:\n",
        "     node = self.buckets[bucket_index].get_node_at_index(node_index)\n",
        "     node.value = value\n",
        "\n",
        "   def rehash(self):\n",
        "    self.capacity = self.capacity * 2\n",
        "    old_buckets = self.buckets\n",
        "    self.size = 0\n",
        "    self.buckets = self.make_array(self.capacity)\n",
        "\n",
        "    for i in old_buckets:\n",
        "     for j in range(i.size()):\n",
        "      node = i.get_node_at_index(j)\n",
        "      key_item = node.key\n",
        "      value_item = node.value\n",
        "      self.put(key_item,value_item)\n",
        "\n",
        "\n",
        "\n",
        "\n",
        "   def get_node_index(self,bucket_index,key):\n",
        "\n",
        "    node_index = self.buckets[bucket_index].search(key)\n",
        "\n",
        "    return node_index\n",
        "\n",
        "\n",
        "\n",
        "\n",
        "\n",
        "   def hash_function(self,key):\n",
        "    return abs(hash(key)) % self.capacity"
      ],
      "metadata": {
        "id": "BOttBb3YqmLU"
      },
      "execution_count": 76,
      "outputs": []
    },
    {
      "cell_type": "code",
      "source": [
        "d1 = dictionary(2)"
      ],
      "metadata": {
        "id": "grTRCGZ6UgB3"
      },
      "execution_count": 77,
      "outputs": []
    },
    {
      "cell_type": "code",
      "source": [
        "d1.put(\"mjn\",57)"
      ],
      "metadata": {
        "colab": {
          "base_uri": "https://localhost:8080/"
        },
        "id": "CFlPGagVVAIx",
        "outputId": "d0348446-93d7-44b6-9a71-f89f45af6e39"
      },
      "execution_count": 87,
      "outputs": [
        {
          "output_type": "stream",
          "name": "stdout",
          "text": [
            "Load factor: 2.0\n",
            "Load factor: 0.125\n",
            "Load factor: 0.25\n",
            "Load factor: 0.375\n",
            "Load factor: 0.5\n",
            "Load factor: 0.625\n",
            "Load factor: 0.75\n",
            "Load factor: 0.875\n",
            "Load factor: 1.0\n"
          ]
        }
      ]
    },
    {
      "cell_type": "code",
      "source": [
        "d1.buckets"
      ],
      "metadata": {
        "colab": {
          "base_uri": "https://localhost:8080/"
        },
        "id": "DS43_XiRUmiF",
        "outputId": "e50baca5-5a57-4096-fc0a-8425a56d4237"
      },
      "execution_count": 88,
      "outputs": [
        {
          "output_type": "execute_result",
          "data": {
            "text/plain": [
              "[<__main__.LL at 0x797ce9a1be20>,\n",
              " <__main__.LL at 0x797ce9a195d0>,\n",
              " <__main__.LL at 0x797ce9a1b2b0>,\n",
              " <__main__.LL at 0x797ce9a19ea0>,\n",
              " <__main__.LL at 0x797ce9a1a7d0>,\n",
              " <__main__.LL at 0x797ce9a1a3e0>,\n",
              " <__main__.LL at 0x797ce9a1a9b0>,\n",
              " <__main__.LL at 0x797ce9a19bd0>]"
            ]
          },
          "metadata": {},
          "execution_count": 88
        }
      ]
    }
  ]
}